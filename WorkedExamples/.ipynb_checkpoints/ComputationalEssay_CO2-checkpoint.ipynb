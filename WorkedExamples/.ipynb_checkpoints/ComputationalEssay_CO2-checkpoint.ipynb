{
 "cells": [
  {
   "cell_type": "markdown",
   "metadata": {},
   "source": [
    "# Raumklimaanalyse in unserem Klassenraum"
   ]
  },
  {
   "cell_type": "markdown",
   "metadata": {},
   "source": [
    "<div class = \"alert alert-warning\">\n",
    "    <h3>Meta-Bemerkung</h3><br>\n",
    "    Das hier ist ein <b>Computational Essay</b> in Form eines Jupyter Notebooks.\n",
    "    In diesem Computational Essay/Jupyter Notebook wird eine beispielhafte Datenanalyse zu einer gestellten Forschungsfrage mit exemplarischen Daten und Auswertungsmethoden gezeigt - und im Laufe der Analysen die Forschungsfrage beantwortet. Dabei werden unter anderem auch Auswertungsmethoden für die Analyse einer einzelnen Variablen sowie für den Zusammenhang zwischen mehreren Variablen vorgestellt. Gerne kann man mit den einzelenen Codezellen herumexperimentieren, um die Funktionsweisen genauer verstehen zu können.<br><br>\n",
    "    Für welche Variablen und Auswertungsmethoden man sich entscheidet, hängt wesentlich von der <b>Forschungsfrage</b> ab, die durch die Datenanalyse beantwortet werden soll.<br><br>\n",
    "    Ein Computational Essay zu einem Data Science Thema enthält im Wesentlichen die folgenden Elemente:\n",
    "    <ul>\n",
    "        <li><b>Problembeschreibung:</b> Hier wird erläutert, worum es geht und wieso es sich um ein wichtiges Thema handelt</li>\n",
    "        <ul>\n",
    "        <li><b>Fragestellung:</b> In der Problembeschreibung wird eine Forschungsfrage gestellt, die mit dem Computational Essay beantwortet werden soll. Dazu können auch Unterfragen gestellt werden.</li>\n",
    "        </ul>\n",
    "        <li><b>Planbeschreibung:</b> Hier wird beschrieben, wie der Plan aussieht, um die Forschungsfrage zu beantworten, beispielsweise, welche Daten man nutzen möchte</li>\n",
    "        <li><b>Daten:</b> Hier werden die Daten in das Jupyter Notebook geladen und für die Programmierung nötige Bibliotheken</li>\n",
    "        <li><b>Datenanalyse:</b> Hier beginnt die Analyse der Daten im Hinblick auf die Forschungsfrage. Dazu kann es sinnvoll sein, sich zunächst einen allgemeinen Überblick über die einzelnen Variablen zu verschaffen und daraus weitere Schritte für die Datenanalyse abzuleiten. Auch Interpretationen der gefundenen Ergebnisse sind hier wichtig!</li>\n",
    "        <li><b>Schlussfolgerung/Empfehlungen:</b> Am Ende des Computational Essays wird die eingangs gestellte Forschungsfrage beantwortet. Dabei nimmt man Bezug zu den gefundenen Ergebnissen der Datenanalyse. Ein Fazit rundet das Computational Essay ab.</li><br>\n",
    "    Konkret soll dieses Jupyter Notebook  zeigen, wie ein Computational Essay aufgebaut sein kann - wichtig sind neben den Code-Zellen insbesondere Zellen mit:\n",
    "    <ul>\n",
    "        <li><b>Erklärungen</b>, die beschreiben, wie ihr bei der Datenanalyse vorgegangen seid,</li>\n",
    "        <li><b>Interpretationen der Ergebnisse</b> - insbesondere der Visualisierungen und statistischen Kenngrößen im Hinblick auf die Forschungsfrage und</li>\n",
    "        <li><b>Erläuterungen zum verwendeten Programmcode</b> und ggf. zu benutzten Bibliotheken.</li>\n",
    "    </ul><br><br>\n",
    "    Und nun viel Erfolg beim Nachvollziehen dieses Computational Essays! Es kann als Vorlage für eigene Computational Essays benutzt werden!\n",
    "</div> "
   ]
  },
  {
   "cell_type": "markdown",
   "metadata": {},
   "source": [
    "\n",
    "## >>Problembeschreibung<<"
   ]
  },
  {
   "cell_type": "markdown",
   "metadata": {
    "markup_type": "expl"
   },
   "source": [
    "<div class=\"alert alert-success\">\n",
    "Eine gute Raumluftqualität ist Voraussetzung dafür, dass sich Menschen in Innenräumen gut konzentrieren können (siehe <a href=\"https://www.svlw.ch/component/easyfolderlistingpro/?view=download&format=raw&data=eNpFUM1OBCEMfhXCCww4yajdkwdjTDzpA0xwpywkwE4KrJsY390OzOqJ9vvp12JAa_jOMIG057AgyUMGzZ2P5oR5CL4gmVI7rkHWjNSVuUEg1Y06Vczlf8o9yHlu2NY9dGsyEbdWgdyeqaN-kQcPqpsIw2qKa_QdyGFUSrxQTUvgjdIwTkp8HF0NrdbiKdkzcWRNzAqWiee4WnShAXu09Szfo0cO7QP-dPO7qTFUW-Y3dIT0mlK3jiDxWvZqXex-F15XT5hvS2u-xpRiji5iYvVnQx_ZQXjx-NX_g2OTKf7CS_z8Avs5emA\">Empfehlungen des österreichischen Bundesministeriums für Bildung und Frauen und der Plattform MeineRaumluft</a>).<br>\n",
    "Da insbesondere in der Schule viele Menschen für eine lange Zeit in einem Klassenraum lernen, sollte besonders auch hier sichergestellt werden, dass die Raumluftqualität gut ist, sodass sich die Personen im Klassenraum gut konzentrieren können.<br>\n",
    "In dieser Analyse wollen wir deshalb in unseren Klassenraum schauen und anhand von Daten zur unserer Raumluft überprüfen, wo es möglicherweise Verbesserungsbedarf gibt. Aufbauend darauf sollen dann Handlungsmöglichkeiten gefunden werden, um die Raumluftqualität in unserem Klassenraum zu verbessern.\n",
    "</div>"
   ]
  },
  {
   "cell_type": "markdown",
   "metadata": {},
   "source": [
    "### Fragestellung"
   ]
  },
  {
   "cell_type": "markdown",
   "metadata": {
    "markup_type": "expl"
   },
   "source": [
    "<div class=\"alert alert-success\">Da das Thema der Raumluftanalyse aufgrund der vielen messbaren Daten sehr komplex ist, wollen wir uns im folgenden auf die <b>CO2 Werte</b> im Klassenraum fokussieren.<br>\n",
    "Laut den Empfehlungen des österreichischen Bundesministeriums für Bildung und Frauen und der Plattform MeineRaumluft sollten die Werte für CO2 im Klassenraum unter 1000 ppm liegen, um die Konzentrationsfähigkeit nicht durch schlechte Raumluft zu beeinträchtigen.<br><br>\n",
    "    <small>Zusätzlich kann es sinnvoll sein, sich zum Beispiel mit den Daten zu Temperatur und Luftfeuchtigkeit zu beschäftigen!</small>\n",
    "    </div>"
   ]
  },
  {
   "cell_type": "markdown",
   "metadata": {},
   "source": [
    "<div class = \"alert alert-warning\">\n",
    "Für Dein eigenes Computational Essay solltest Du Deine eigenen Fragen formulieren. Trage diese in eine eigene Markdown-Zelle ein.\n",
    "</div>"
   ]
  },
  {
   "cell_type": "markdown",
   "metadata": {
    "markup_type": "expl"
   },
   "source": [
    "<div class=\"alert alert-success\">\n",
    "<b>Forschungsfragen</b>:\n",
    "<ul>\n",
    "    <li>Wie sieht der zeitliche Verlauf der CO$_2$-Werte an den verschiedenen Wochentagen in meinem Klassenraum aus?</li>\n",
    "    <li>Zu welchen Zeitpunkten liegt der CO$_2$-Wert oberhalb der empfohlenen Grenze von 1000 ppm?\n",
    "    <ul>\n",
    "        <li>Welche Ursachen könnte dies haben?</li>\n",
    "        <li>Was können wir tun?</li>\n",
    "    </ul>\n",
    "    </li>\n",
    "</ul>\n",
    "</div>"
   ]
  },
  {
   "cell_type": "markdown",
   "metadata": {},
   "source": [
    "## >>Planbeschreibung<<"
   ]
  },
  {
   "cell_type": "markdown",
   "metadata": {
    "markup_type": "expl"
   },
   "source": [
    "<div class =\"alert alert-success\">\n",
    "Um die oben genannten Fragen beantworten zu könnnen, werden einerseits natürlich CO$_2$Daten für einen Zeitraum von mindestens einer Woche benötigt, um den CO$_2$-Wert an verschiedenen Wochentagen zu visualisieren. Vielleicht kann man auch auf unterschiedliche Belegungen des Klassenraums eingehen.<br>\n",
    "Dazu müssen diese verschiedenen Belegungen nachgehalten werden. Diese werden in diesem <a href = \"Basisinformationen.ipynb\"><b>Jupyter Notebook</b></a> neben weiteren Informationen über die Raumbeschaffenheit festgehalten.\n",
    "</div>"
   ]
  },
  {
   "cell_type": "markdown",
   "metadata": {},
   "source": [
    "## >>Daten<<"
   ]
  },
  {
   "cell_type": "markdown",
   "metadata": {
    "markup_type": "expl"
   },
   "source": [
    "<div class = \"alert alert-success\">\n",
    "In diesem Abschnitt werden die gesammelten Daten eingelesen.<br><br>\n",
    "Alle Daten wurden im Zeitraum vom 08.02.2022 bis zum 15.02.2022 im Klassenraum R2.02 der Albert-Einstein-Schule mithilfe einer Sensebox aufgenommen.  Alle aufnehmenden Sensoren befanden sich an der Rückseite des Raums, zwischen der Tür und den Fenstern in ca. 1 Meter Höhe (siehe auch Foto unten).<br><br>\n",
    "    (Weitere Informationen zur Sensebox erhät man <a href = \"https://www.sensebox.de\"><b>hier</b></a>).\n",
    "</div>"
   ]
  },
  {
   "cell_type": "markdown",
   "metadata": {},
   "source": [
    "![Bild](res/Bild_Sensor.png)"
   ]
  },
  {
   "cell_type": "markdown",
   "metadata": {},
   "source": [
    "### Imports"
   ]
  },
  {
   "cell_type": "markdown",
   "metadata": {
    "markup_type": "expl"
   },
   "source": [
    "<div class = \"alert alert-success\">\n",
    "Für die Datenanalyse benötigen wir Zugriff auf einige Methoden aus externen Bibliotheken (= Sammlungen an Methoden, die man anwenden möchte, ohne sie noch einmal neu zu schreiben). Dazu führen wir im Folgenden einige Imports durch:\n",
    "</div>"
   ]
  },
  {
   "cell_type": "markdown",
   "metadata": {
    "markup_type": "red"
   },
   "source": [
    "<div class = \"alert alert-warning\">\n",
    "Die folgende Zelle ist eine Code-Zelle. Dort werden die Bibliotheken geladen, die in diesem Jupyter Notebook verwendet werden. <br><br>\n",
    "    <b>pandas</b> ist eine Bibliothek, die statistische Methoden enthält. <br>\n",
    "    <b>numpy</b> ist eine Bibliothek, die ein einfacheres Umgehen mit großen Datenarrays ermöglicht.<br>\n",
    "    <b>plotly</b> ist eine Bibliothek, mit der interaktive Visualisierungen erstellt werden können. Dabei ermöglicht die \"Untersammlung\" <code>graph_objects</code> das Erstellen einer Vielzahl an Plots und deren Beschriftungen, während es die \"Untersammlung\" <code>subplots</code> ermöglicht, Graphen zu verschiedenen Variablen in ein gemeinsames Diagramm zu zeichnen.<br>\n",
    "    <b>datetime</b> ist eine Bibliothek, die es ermöglicht, Daten und Uhrzeiten in Datensätzen einzutragen und danach zu sortieren und zu filtern.<br><br>\n",
    "    Mit <b>pd, np, go, sp und dati</b> rufst Du die verschiedenen Bibliotheken auf.<br><br>\n",
    "    Bitte führe nun die folgende Code-Zelle aus, um die Bibliotheken zu laden! (Tipp: Das geht mit Shift+Enter!)\n",
    "</div>"
   ]
  },
  {
   "cell_type": "code",
   "execution_count": null,
   "metadata": {
    "scrolled": true
   },
   "outputs": [],
   "source": [
    "import pandas as pd\n",
    "import numpy as np\n",
    "import plotly.graph_objects as go\n",
    "import plotly.subplots as sp\n",
    "from datetime import datetime as dati"
   ]
  },
  {
   "cell_type": "markdown",
   "metadata": {},
   "source": [
    "### Daten einlesen"
   ]
  },
  {
   "cell_type": "markdown",
   "metadata": {
    "markup_type": "expl"
   },
   "source": [
    "<div class = \"alert alert-success\">\n",
    "Nun müssen wir erst einmal die Daten hier in das Jupyter Notebook hineinbekommen, um diese dann später analysieren und interpretieren zu können. Dazu lesen wir die Daten als sogenannte <b>csv-Datei</b> (csv = comma-separated values, zu Deutsch: durch Komma getrennte Werte) in ein <b>Dataframe</b> ein, welches wir <code>df</code> nennen. Ein Dataframe kann man sich vorstellen wie eine Tabelle, in der die Zeilen jeweils den aufgenommenen Datensätzen entsprechen und die Spalten die einzelnen Attribute/Variablen - wie z.B. \"Datum\" oder \"gemessener Temperaturwert\" darstellen.\n",
    "</div>"
   ]
  },
  {
   "cell_type": "code",
   "execution_count": null,
   "metadata": {},
   "outputs": [],
   "source": [
    "df = pd.read_csv('data_complete_hPa.csv', sep =';')"
   ]
  },
  {
   "cell_type": "markdown",
   "metadata": {},
   "source": [
    "<div class = \"alert alert-success\">\n",
    "Um zu überprüfen, ob das Einlesen der Daten funktioniert hat, können wir uns mithilfe der Methode <code>head()</code> die ersten 5 Zeilen - also Datensätze - des Dataframes anzeigen lassen:\n",
    "</div>"
   ]
  },
  {
   "cell_type": "code",
   "execution_count": null,
   "metadata": {},
   "outputs": [],
   "source": [
    "df.head()"
   ]
  },
  {
   "cell_type": "markdown",
   "metadata": {
    "markup_type": "expl"
   },
   "source": [
    "<div class = \"alert alert-success\">\n",
    "    Die eingelesenen Datensätze in unserem <code>df</code> bestehen aus Daten über...\n",
    "    <ul>\n",
    "        <li>den CO$_2$-Wert (=<b>value_co2</b>)</li>\n",
    "        <li>die Temperatur (=<b>value_temp</b>)</li>\n",
    "        <li>die Luftfeuchtigkeit (=<b>value_hum</b>)</li>\n",
    "        <li>den Luftdruck (=<b>value_airpressure</b>)</li>\n",
    "        <li>die Helligkeit (=<b>value_light</b>)</li>\n",
    "    </ul>\n",
    "    im Klassenraum. Bei timestamp lässt sich erkennen, dass <b>alle 30 Sekunden</b> ein Wert gemessen wurde.<br><br>\n",
    "    Der <b>CO$_2$-Wert</b> wurde in der Einheit ppm (parts per million; als Anteil pro Million) gemessen. <br>\n",
    "    Die <b>Temperatur</b> wurde in Grad Celsius gemessen.<br>\n",
    "    Die <b>Luftfeuchtigkeit</b> wurde als relativer Anteil des Wasserdampfs am Gasgemisch der Luft gemessen.<br>\n",
    "    Der <b>Luftdruck</b> wurde in Hektopascal gemessen und beschreibt den Druck, den die Luft auf eine bestimmte Fläche auswirkt.<br>\n",
    "    Die <b>Helligkeit</b> wurde in der Einheit der Beleuchtungsstärke lux gemessen.\n",
    "</div>"
   ]
  },
  {
   "cell_type": "markdown",
   "metadata": {},
   "source": [
    "<div class = \"alert alert-success\">\n",
    "Um statistisch mit den gemessenen Werten arbeiten zu können, müssen diese als numerische Daten behandelt werden. Folglich muss ihnen ein entsprechender <b>Datentyp</b> zugewiesen werden. Zudem soll das Datum (=<b>timestamp</b>) auch als Datum erkannt werden und benötigt deshalb ebenfalls einen besonderen Datentyp (datetime). Daher ändern wir in der nächsten Code-Zelle die Datentypen der \n",
    "<ul>\n",
    "    <li>CO$_2$-Daten</li>    \n",
    "    <li>Luftfeuchtigkeits-Daten</li>\n",
    "    <li>Temperatur-Daten</li>\n",
    "    <li>Luftdruck-Daten</li>\n",
    "    <li>Helligkeits-Daten</li>\n",
    "    </ul><br>\n",
    "   zu numerischen Werten. Das \n",
    "    <ul>\n",
    "    <li>Datum</li>\n",
    "    </ul><br>\n",
    "    wird zu einem datetime-Objekt.\n",
    "</div>"
   ]
  },
  {
   "cell_type": "code",
   "execution_count": null,
   "metadata": {},
   "outputs": [],
   "source": [
    "df['value_co2'] = pd.to_numeric(df['value_co2'], errors='coerce')\n",
    "df['value_temp'] = pd.to_numeric(df['value_temp'], errors='coerce')\n",
    "df['value_hum'] = pd.to_numeric(df['value_hum'], errors='coerce')\n",
    "df['value_airpressure'] = pd.to_numeric(df['value_airpressure'], errors='coerce')\n",
    "df['value_light'] = pd.to_numeric(df['value_light'], errors='coerce')\n",
    "df['timestamp'] = pd.to_datetime(df['timestamp'], dayfirst=True,errors='coerce')"
   ]
  },
  {
   "cell_type": "markdown",
   "metadata": {
    "markup_type": "expl"
   },
   "source": [
    "<div class = \"alert alert-success\">\n",
    "Weiterhin muss nun noch der Index des Datensatzes festgelegt werden, bezüglich dessen die Daten gefiltert und sortiert werden sollen. Normalerweise werden die Datensätze von 0 bis zum Ende durchnummeriert, sodass man die Datensätze anhand dieser verschiedenen Nummern addressieren kann. In unserem Fall können wir aber sogar über das jeweilige Datum auf die Datensätze zugreifen. Deswegen setzen wir den Index hier auf das Datum:\n",
    "</div>"
   ]
  },
  {
   "cell_type": "code",
   "execution_count": null,
   "metadata": {},
   "outputs": [],
   "source": [
    "df = df.set_index('timestamp')"
   ]
  },
  {
   "cell_type": "markdown",
   "metadata": {},
   "source": [
    "## >>Datenanalyse<<"
   ]
  },
  {
   "cell_type": "markdown",
   "metadata": {},
   "source": [
    "### Analyse der CO$_2$-Daten"
   ]
  },
  {
   "cell_type": "markdown",
   "metadata": {},
   "source": [
    "#### Ein erster Überblick"
   ]
  },
  {
   "cell_type": "markdown",
   "metadata": {
    "markup_type": "expl"
   },
   "source": [
    "<div class = \"alert alert-success\">\n",
    "    <b>Jetzt geht es los - wir starten damit, uns die Daten anzuschauen!</b>\n",
    "    <br><br>\n",
    "Nun wollen wir uns zunächst einen Überblick über die CO2-Daten verschaffen. Dazu erstellen wir ein Streudiagramm. Als erstes muss  eine Graphik (engl. figure) <code>fig</code> erstellt werden, in die dann die Graphen nach und nach eingetragen werden.\n",
    "</div>"
   ]
  },
  {
   "cell_type": "code",
   "execution_count": null,
   "metadata": {
    "scrolled": false
   },
   "outputs": [],
   "source": [
    "fig = go.Figure()"
   ]
  },
  {
   "cell_type": "markdown",
   "metadata": {},
   "source": [
    "<div class = \"alert alert-success\">\n",
    "   Mithilfe der Methode <code>add_trace(..)</code> kann zu der angelegten Figure (=Graphik) nun eine Darstellung hinzugefügt werden. <br>\n",
    "Da es sich hier um eine Art von Streudiagramm (engl. scatter plot) handeln soll, wird die Methode <code>Scatter</code> aus der <code>plotly.graph_objects</code>-Bibliothek benötigt. Dieser muss dann noch übergeben werden, was die x-Werte und was die y-Werte der einzutragenden Punkte sein sollen.\n",
    "In unserem Fall ist der x-Wert der Index (also das Datum). Dementsprechend muss auf diese Werte - mit <code>df.index</code> - zugegriffen werden. Die y-Werte (=CO2 Werte) befinden sich in der Spalte <code>'value_co2'</code> unseres Datensatzes <code>df</code>. Auf diese kann mit <code>df['value_co2']</code> zugegriffen werden.<br>\n",
    "Abschließend wird die Graphik mithilfe der Methode <code>show()</code> angezeigt.\n",
    "</div>"
   ]
  },
  {
   "cell_type": "code",
   "execution_count": null,
   "metadata": {},
   "outputs": [],
   "source": [
    "fig.add_trace(go.Scatter(x=df.index, y=df['value_co2']))\n",
    "fig.show()"
   ]
  },
  {
   "cell_type": "markdown",
   "metadata": {},
   "source": [
    "#### Filtern der Unterrichtzeiten"
   ]
  },
  {
   "cell_type": "markdown",
   "metadata": {},
   "source": [
    "<div class = \"alert alert-success\">\n",
    "    Nun haben wir einen ersten Überblick über den gesamten CO$_2$-Verlauf. Wie wir sehen, beinhaltet dieser auch ein Wochenende (woran sieht man das?!) sowie generell den gesamten Zeitraum von 0:00 Uhr bis 23:59 Uhr für jeden Tag vom 8.2.22 bis 15.2.22. Man sieht, dass der CO$_2$-Wert täglich vormittags schwankt und nach 13 Uhr bis zum nächsten Tag konstant abnimmt.<br><br>\n",
    "<b>Filtern</b><br><br>\n",
    "Das legt eine Verbindung zu den Unterrichtszeiten nahe. Diese sind an der Schule von Montag bis Freitag, 07:50 Uhr bis 13:05 Uhr. Auf diese wollen wir uns nun konzentrieren. Dazu wird der Datensatz im Folgenden auf diese Zeiträume gefiltert. Um einen Datensatz zu filtern, werden die \"Filterbedingungen\" in eckige Klammern hinter den Namen des Datensatzes geschrieben. Der gefilterte Datensatz kann dann in einer (neuen) Variable gespeichert werden. Der allgemeine Aufbau einer Filteranweisung sieht also so aus:<br> \n",
    "    <center><code>Neuer_Datensatz = Alter_Datensatz[\"Filterbedingung\"]</code></center><br>\n",
    "    wobei <code>Neuer_Datensatz</code> der Name ist, unter der der neue Datensatz gespeichert wird.<br><br>\n",
    "Um nun nur die fünf Werktage für den Datensatz herauszufiltern, muss in der Filterbedingung geprüft werden, ob der aktuell betrachtete Datensatz einen Zeitstempel hat, bei dem der Wochentag Montag bis Freitag ist. Den Wochentag kann man sich über das Attribut <code>weekday</code> als Zahl ausgeben lassen. Montag entspricht der 0, Dienstag der 1, Mittwoch der 2, usw.  Da wir den Zeitstempel oben ja als Index festgelegt haben, können wir mit <code>df.index</code> darauf zugreifen und über <code>df.index.weekday</code> dann auf den Wochentag als Zahl. Um nun nur die Wochentage von Montag (0) bis Freitag (4) zu filtern, muss folglich <code>df.index.weekday &#060; 5</code> gelten. Zusammengesetzt filtert man die Wochentage von Montag bis Freitag also mit <code>df[(df.index.weekday &#060; 5)]</code>.<br><br>\n",
    "Für die Uhrzeit muss nun geprüft werden, ob die Uhrzeit des jeweiligen Zeitstempels eines Datensatzes zwischen 07:50 Uhr und 13:05 Uhr liegt. Im Vorfeld erstellen wir uns die Variablen <code>start</code> und <code>ende</code>, in der wir die Zeiten 07:50 Uhr bzw. 13:05 Uhr speichern - dies funktioniert über die Methode <code>strptime</code> aus der Datetime-Bibliothek, die einen String in einen Zeitstempel umwandelt. Um daraus nun noch die Uhrzeit zu erhalten, wird die Methode <code>time</code> abschließend darauf angewendet.<br>\n",
    "    Um nun in der \"Filterbedingung\" zu prüfen, ob eine Uhrzeit zwischen <code>start</code> und <code>end</code> liegt, wird die Methode <code>between</code> genutzt. Dieser muss ein Start und ein Endpunkt übergeben werden, zwischen denen die Uhrzeit liegen soll. Die Uhrzeit ist im Datensatz ja bereits als Teil des Zeitstempels im Index gespeichert, auf den man mit <code>df_wochentage.index</code> zugreifen kann. Allerdings kann die Methode <code>between</code> nur auf Uhrzeiten angewandt werden. Daher muss der Zeitstempel im Index zuvor in das passende Uhrzeit-Format umgewandelt werden. Dies geschieht mithilfe der <code>to_series()</code>-Methode, die aus dem Index eine eigene Series erzeugt, aus der man dann mithilfe der <code>time</code>-Methode aus der Datetime-Bibliothek die Uhrzeit extrahieren kann. Diese Uhrzeit kann dann über die <code>between</code>-Methode mit dem dort übergebenen Zeitraum abgeglichen werden. Der gesamte Befehl zum Filtern des Wochentag-Datensatzes im Hinblick auf den Zeitraum zwischen 07:50 Uhr und 13:50 Uhr lautet also:<br>\n",
    "    <center><code>df_schulzeit = df_wochentage[df_wochentage.index.to_series().dt.time.between(start, ende)]</code></center>\n",
    "</div>"
   ]
  },
  {
   "cell_type": "code",
   "execution_count": null,
   "metadata": {},
   "outputs": [],
   "source": [
    "#Filtere Wochentag:\n",
    "df_wochentage = df[(df.index.weekday < 5)]\n",
    "#Filtere Uhrzeit:\n",
    "start = dati.strptime('07:50:00', '%H:%M:%S').time()\n",
    "ende = dati.strptime('13:05:00', '%H:%M:%S').time()\n",
    "df_schulzeit = df_wochentage[df_wochentage.index.to_series().dt.time.between(start, ende)]"
   ]
  },
  {
   "cell_type": "markdown",
   "metadata": {},
   "source": [
    "<div class = \"alert alert-success\">\n",
    "    Weiterhin wollen wir für jeden Wochentag einen neuen Teil-Datensatz erstellen. Unser gesamter Datensatz enthält die Wochentage...\n",
    "    <ul>\n",
    "        <li>08.02.2022</li>\n",
    "        <li>09.02.2022</li>\n",
    "        <li>10.02.2022</li>\n",
    "        <li>11.02.2022</li>\n",
    "        <li>14.02.2022</li>\n",
    "        <li>15.02.2022</li>\n",
    "    </ul>\n",
    "Im folgenden erstellen wir nun einen entsprechenden Teil-Datensatz für jeden dieser Tage. Dabei benennen wir die Teil-Datensätze df_0802, df_0902, df_1002,...<br>\n",
    "Um nun die Teildatensätze zu erstellen, müssen wir die Daten aus dem gesamten Datensatz filtern - und zwar nach dem Zeitpunkt bzw. dem Datum. Da wir diesen Wert ja als Index festgelegt haben, können wir mit <code>df.index</code> darauf zugreifen und über <code>df.index.day</code> auf den Tag und über <code>df.index.month</code> auf den Monat.<br>\n",
    "Beispielsweise muss für den 08.02. muss nun also <code>df.index.day == 8</code> und <code>df.index.month == 2</code> erfüllt sein. Für die anderen Tage läuft das Filtern dann ähnlich:"
   ]
  },
  {
   "cell_type": "code",
   "execution_count": null,
   "metadata": {},
   "outputs": [],
   "source": [
    "df_0802 = df_schulzeit[(df_schulzeit.index.day == 8) & (df_schulzeit.index.month == 2)]\n",
    "df_0902 = df_schulzeit[(df_schulzeit.index.day == 9) & (df_schulzeit.index.month == 2)]\n",
    "df_1002 = df_schulzeit[(df_schulzeit.index.day == 10) & (df_schulzeit.index.month == 2)]\n",
    "df_1102 = df_schulzeit[(df_schulzeit.index.day == 11) & (df_schulzeit.index.month == 2)]\n",
    "df_1402 = df_schulzeit[(df_schulzeit.index.day == 14) & (df_schulzeit.index.month == 2)]\n",
    "df_1502 = df_schulzeit[(df_schulzeit.index.day == 15) & (df_schulzeit.index.month == 2)]"
   ]
  },
  {
   "cell_type": "markdown",
   "metadata": {},
   "source": [
    "#### Visualisierung der einzelnen Wochentage"
   ]
  },
  {
   "cell_type": "markdown",
   "metadata": {},
   "source": [
    "<div class = \"alert alert-success\">\n",
    "    Nun kann - wie bereits zuvor gesehen - eine neue Graphik <code>fig_dates</code> erstellt werden, in die die Daten nach Tagen gefiltert eingetragen werden. Automatisch wird dabei auch eine Legende erstellt, in der man dann durch Klicken einzelne Tage auswählen kann, die angezeigt oder ausgeblendet werden können. Um die Teildatensätze in der Legende passend zu benennen, verwendet man das Attribut <code>name</code>."
   ]
  },
  {
   "cell_type": "code",
   "execution_count": null,
   "metadata": {},
   "outputs": [],
   "source": [
    "fig_dates = go.Figure()\n",
    "fig_dates.add_trace(go.Scatter(x=df_0802.index, y=df_0802['value_co2'], name = 'Dienstag, 08.02.2022'))\n",
    "fig_dates.add_trace(go.Scatter(x=df_0902.index, y=df_0902['value_co2'], name = 'Mittwoch, 09.02.2022'))\n",
    "fig_dates.add_trace(go.Scatter(x=df_1002.index, y=df_1002['value_co2'], name = 'Donnerstag, 10.02.2022'))\n",
    "fig_dates.add_trace(go.Scatter(x=df_1102.index, y=df_1102['value_co2'], name = 'Freitag, 11.02.2022'))\n",
    "fig_dates.add_trace(go.Scatter(x=df_1402.index, y=df_1402['value_co2'], name = 'Montag, 14.02.2022'))\n",
    "fig_dates.add_trace(go.Scatter(x=df_1502.index, y=df_1502['value_co2'], name = 'Dienstag, 15.02.2022'))\n",
    "fig_dates.show()"
   ]
  },
  {
   "cell_type": "markdown",
   "metadata": {
    "markup_type": "red"
   },
   "source": [
    "<div class = \"alert alert-success\">\n",
    "Hier sieht man nun den Verlauf der CO$_2$-Werte - getrennt nach den einzelnen Tagen. Als erstes solltest Du ein bisschen bei dieser Graphik bleiben und Dir die verschiedenen Tage einzeln anschauen in der interaktiven Graphik.<br>\n",
    "    Wenn man einen Tag isoliert betrachtet (durch Anklicken und Vergrößern in der interaktiven Graphik), sieht man sehr gut die Schwankungen des CO2-Werts an den Vormittagen. Beispielsweise am 10.Februar sieht man starke Schwankungen und könnte vermuten, dass zwischendrin immer wieder gelüftet wurde, wodurch die CO2-Konzentration wieder gefallen ist. Finde doch einmal heraus, an welchem Tag ab 9 Uhr vermutlich kein Unterricht mehr in diesem Raum stattgefunden hat!<br><br>\n",
    "    <b>Zur weiteren Analyse</b><br><br>\n",
    "    Allerdings ist diese Graphik noch nicht so aussagekräftig - insbesondere fällt es aufgrund der Lücken zwischen den Einzelgraphen schwer, Vergleiche zwischen diesen ziehen zu können. Um dies zu ermöglichen, muss das Datum aus dem Zeitstempel ignoriert werden. Da der Zeitstempel im Index der Datensätze gespeichert ist, kann über <code>df_0802.index</code> auf den Zeitstempel zugegriffen werden. Mithilfe des Attributes <code>time</code> kann dann auf die Uhrzeit zugegriffen werden.<br>\n",
    "    Allerdings muss diese nun wieder in ein Zeitstempelformat mit einem \"Dummy-Datum\" (entspricht dann dem heutigen Datum) gebracht werden, damit die Daten chronologisch auf der x-Achse angeordnet werden können. Dazu wenden wir erneut die Methode <code>pd.to_datetime</code> an, nachdem wir die Uhrzeit vorher noch mithilfe der Methode <code>astype(str)</code> in einen String umgewandelt haben.\n",
    "    </div>"
   ]
  },
  {
   "cell_type": "code",
   "execution_count": null,
   "metadata": {
    "scrolled": false
   },
   "outputs": [],
   "source": [
    "fig_dates = go.Figure()\n",
    "fig_dates.add_trace(go.Scatter(x=pd.to_datetime(df_0802.index.time.astype(str)), y=df_0802['value_co2'], name = 'Dienstag, 08.02.2022'))\n",
    "fig_dates.add_trace(go.Scatter(x=pd.to_datetime(df_0902.index.time.astype(str)), y=df_0902['value_co2'], name = 'Mittwoch, 09.02.2022'))\n",
    "fig_dates.add_trace(go.Scatter(x=pd.to_datetime(df_1002.index.time.astype(str)), y=df_1002['value_co2'], name = 'Donnerstag, 10.02.2022'))\n",
    "fig_dates.add_trace(go.Scatter(x=pd.to_datetime(df_1102.index.time.astype(str)), y=df_1102['value_co2'], name = 'Freitag, 11.02.2022'))\n",
    "fig_dates.add_trace(go.Scatter(x=pd.to_datetime(df_1402.index.time.astype(str)), y=df_1402['value_co2'], name = 'Montag, 14.02.2022'))\n",
    "fig_dates.add_trace(go.Scatter(x=pd.to_datetime(df_1502.index.time.astype(str)), y=df_1502['value_co2'], name = 'Dienstag, 15.02.2022'))\n",
    "fig_dates.show()"
   ]
  },
  {
   "cell_type": "markdown",
   "metadata": {},
   "source": [
    "<div class = \"alert alert-success\">\n",
    "    <b>Beschriftung der Graphik</b><br><br>\n",
    "    Für eine vernünftige Graphik fehlen noch ein Titel und die Achsenbeschriftungen. Dazu kann innerhalb der Funktion <code>update_layout</code> noch ein Titel für die Graphik festgelegt werden. Die Achsen lassen sich mithilfe der Methoden <code>update_xaxes</code> bzw. <code>update_yaxes</code> beschriften.\n",
    "</div>"
   ]
  },
  {
   "cell_type": "code",
   "execution_count": null,
   "metadata": {},
   "outputs": [],
   "source": [
    "fig_dates = go.Figure()\n",
    "fig_dates.add_trace(go.Scatter(x=pd.to_datetime(df_0802.index.time.astype(str)), y=df_0802['value_co2'], name = 'Dienstag, 08.02.2022'))\n",
    "fig_dates.add_trace(go.Scatter(x=pd.to_datetime(df_0902.index.time.astype(str)), y=df_0902['value_co2'], name = 'Mittwoch, 09.02.2022'))\n",
    "fig_dates.add_trace(go.Scatter(x=pd.to_datetime(df_1002.index.time.astype(str)), y=df_1002['value_co2'], name = 'Donnerstag, 10.02.2022'))\n",
    "fig_dates.add_trace(go.Scatter(x=pd.to_datetime(df_1102.index.time.astype(str)), y=df_1102['value_co2'], name = 'Freitag, 11.02.2022'))\n",
    "fig_dates.add_trace(go.Scatter(x=pd.to_datetime(df_1402.index.time.astype(str)), y=df_1402['value_co2'], name = 'Montag, 14.02.2022'))\n",
    "fig_dates.add_trace(go.Scatter(x=pd.to_datetime(df_1502.index.time.astype(str)), y=df_1502['value_co2'], name = 'Dienstag, 15.02.2022'))\n",
    "\n",
    "fig_dates.update_layout(title=\"CO2-Werte in unserem Klassenraum\")\n",
    "fig_dates.update_xaxes(title_text = \"Zeit\")\n",
    "fig_dates.update_yaxes(title_text = \"CO2-Wert in ppm\")\n",
    "\n",
    "fig_dates.show()"
   ]
  },
  {
   "cell_type": "markdown",
   "metadata": {},
   "source": [
    "<div class = \"alert alert-success\">\n",
    "    In den obigen 6 Graphen sieht man den Verlauf des CO$_2$-Wertes innerhalb des Unterrichtszeitraums an 6 verschiedenen Messtagen (08.-11. und 14.-15. Februar). Blende nun durch Anklicken in der Legende immer nur einen Tag auf einmal ein. An welchen Tagen hat hier wohl in der ersten Stunde kein Unterricht stattgefunden?<br><br>\n",
    "    Die Werte bewegen sich etwa in der Spannweite zwischen 500 und 1300 ppm und schwanken zwischendurch teilweise stark. Dies hat vermutlich damit zu tun, dass bei einem Wert von 1000ppm die CO$_2$-Ampel in der Klasse gelb wird und daraufhin die Fenster geöffnet werden, bis die CO$_2$-Ampel wieder grün wird.\n",
    "    Empfohlen wird ein CO$_2$-Wert von unter 1000 ppm im Klassenraum. Man sieht schon anhand der Graphik oben, dass der CO$_2$-Gehalt ziemlich häufig oberhalb dieser Grenze liegt. Um genauere Analysen machen zu können, sollen diese Zeiträume, zu denen die gemessenen Werte oberhalb des \"guten\" Bereichs liegen, in einen separaten Datensatz übernommen werden. Dadurch möchten wir genau lokalisieren, wann zu hohe CO$_2$-Werte auftreten. <br><br>\n",
    "Dazu filtern wir - analog zum Vorgehen oben - zunächst zwei Teildatensätze aus dem <code>df_schulzeit</code>-Datensatz. Dabei soll der eine Datensatz all die Datenpunkte enthalten, bei denen der CO$_2$-Wert unter 1000 ppm lag und der andere Datensatz jeweils diejenigen, bei denen der Wert bei mindestens 1000 ppm lag.\n",
    "</div>"
   ]
  },
  {
   "cell_type": "markdown",
   "metadata": {},
   "source": [
    "#### Filtern nach Werten über und unter 1000ppm"
   ]
  },
  {
   "cell_type": "code",
   "execution_count": null,
   "metadata": {},
   "outputs": [],
   "source": [
    "df_under1000 = df_schulzeit[(df_schulzeit['value_co2'] < 1000)]\n",
    "df_over1000 = df_schulzeit[(df_schulzeit['value_co2'] >= 1000)]"
   ]
  },
  {
   "cell_type": "markdown",
   "metadata": {},
   "source": [
    "<div class = \"alert alert-success\">Nun sollen beide Datensätze in ein gemeinsames Koordinatensystem eingetragen werden. <br>Hinweis: Hierbei werden keine Verbindungslinien verwendet, welche die einzelnen Punkte miteinander verbinden, da dann zwei Punkte miteinander verbunden werden könnten, die nicht aufeinander folgen: Wenn beispielsweise der CO$_2$-Wert zu einem Zeitpunkt A unter 1000 ppm liegt, dann kurzzeitig über 1000 ppm steigt und dann zu einem Zeitpunkt B wieder unter 1000 ppm liegt, würden die Punkte bei A und B miteinander verbunden, was den Eindruck erwecken könnte, der Wert hätte in der Zwischenzeit auch immer unter 1000 ppm gelegen. Aus diesem Grund sollen hier Puinkte ohne Linien verwendet werden, was durch Belegung des Attributs <code>mode</code> mit dem Wert <code>'markers'</code> gelöst werden kann.<br>\n",
    "Um die beiden Datensätze noch besser unterscheiden zu können, werden die jeweiligen Punkte in verschiedenen Farben gefärbt. Dies funktioniert über das Festlegen einer Farbe im Attribut <code>marker</code>. Diesem wird ein dictionary-Objekt übergeben, in dem verschiedene Eigenschaften der Marker - unter anderem eben auch die Farbe - festgelegt werden können.</div>"
   ]
  },
  {
   "cell_type": "code",
   "execution_count": null,
   "metadata": {},
   "outputs": [],
   "source": [
    "fig_grenze = go.Figure()\n",
    "fig_grenze.add_trace(go.Scatter(x=df_under1000.index, y=df_under1000['value_co2'], mode = 'markers', name = 'CO2-Wert unter 1000ppm', marker=dict(color='Darkgreen')))\n",
    "fig_grenze.add_trace(go.Scatter(x=df_over1000.index, y=df_over1000['value_co2'], mode = 'markers', name = 'CO2-Wert 1000ppm und größer', marker=dict(color='red')))\n",
    "fig_grenze.show()"
   ]
  },
  {
   "cell_type": "markdown",
   "metadata": {},
   "source": [
    "<div class=\"alert alert-success\">\n",
    "Zusätzlich zur farblichen Trennung kann der Graphik auch eine Trennlinie hinzugefügt werden. Hierzu verwendet man die Methode <code>add_hline</code>, der man im Attribut <code>y</code> den Wert <code>1000</code> übergibt.<br>\n",
    "<i>Tipp: Analog kann man auch vertikale Linien mit der Methode <code>add_vline</code> (und dem Attribut <code>x</code>) hinzufügen.</i>\n",
    "    </div>"
   ]
  },
  {
   "cell_type": "code",
   "execution_count": null,
   "metadata": {
    "scrolled": false
   },
   "outputs": [],
   "source": [
    "fig_grenze = go.Figure()\n",
    "fig_grenze.add_trace(go.Scatter(x=df_under1000.index, y=df_under1000['value_co2'], mode = 'markers', name = 'CO2-Wert unter 1000ppm', marker=dict(color='Darkgreen')))\n",
    "fig_grenze.add_trace(go.Scatter(x=df_over1000.index, y=df_over1000['value_co2'], mode = 'markers', name = 'CO2-Wert über 1000ppm', marker=dict(color='red')))\n",
    "fig_grenze.add_hline(y=1000)\n",
    "fig_grenze.show()"
   ]
  },
  {
   "cell_type": "markdown",
   "metadata": {},
   "source": [
    "<div class = \"alert alert-success\">\n",
    "    <b>Schlussfolgerung/Empfehlung</b><br><br>\n",
    "    Zoomt man in die einzelnen Tage hinein, lässt sich erkennen, dass am \n",
    "    <ul>\n",
    "        <li>08.02.</li>\n",
    "        <li>10.02.</li>\n",
    "        <li>14.02.</li>\n",
    "        <li>15.02.</li>\n",
    "    </ul>\n",
    "    Zeiträume, in denen der CO$_2$-Wert über 1000 ppm lag, sehr eng aufeinander folgen. Das sieht man daran, dass zwischen zwei solcher \"roten Zeiträume\" nur wenige \"grüne Punkte\" liegen, bei denen der CO$_2$-Wert unter 1000 ppm lag. Vermutlich sind die Fenster sehr schnell wieder geschlossen worden. Folglich könnte es sinnvoll sein, die Fenster noch ein wenig länger offen zu halten, um den CO$_2$-Wert zunächst noch weiter zu verringern, sodass die nächste \"rote Phase\" erst später auftritt. <br>\n",
    "    Nachdem diese Handlungsempfehlung ausprobiert wurde, könnte es sinnvoll sein, anhand neuer Daten noch genauer zu analysieren, wie viel Zeit zwischen den \"roten Phasen\" liegt, um ggf. \"präventiv\" lüften zu können und nicht erst, wenn der CO$_2$-Wert über 1000 ppm liegt. Da die \"roten Phasen\" aktuell teilweise sehr schnell aufeinander folgen, ergibt dies jetzt noch keinen Sinn (man müsste dann dauerhaft lüften), sondern erst dann, wenn diese Phasen in etwas größeren/regelmäßigeren Abständen zueinander liegen, die man dann abschätzen kann. \n",
    "\n",
    "        \n",
    "</div>"
   ]
  },
  {
   "cell_type": "markdown",
   "metadata": {},
   "source": [
    "#### Gruppierung der Daten nach Menge an Zeitpunkten, zu denen der CO$_2$-Wert über 1000ppm lag"
   ]
  },
  {
   "cell_type": "markdown",
   "metadata": {},
   "source": [
    "<div class =\"alert alert-success\">\n",
    "    <b>Weiterführende Analysen</b><br><br>\n",
    "    Nun könnte noch interessant sein, zu analysieren, zu welchen Tageszeiten der CO$_2$-Wert besonders häufig über 1000 ppm liegt. Auf diese Weise könnten Zeiträume identifiziert werden, zu denen besonders häufig gelüftet werden sollte. Zunächst werden dafür die Datenpunkte, bei denen der CO$_2$-Wert über 1000 ppm lag, gruppiert. Als Ergebnis soll dann eine Liste mit 30 min Zeitintervallen herauskommen, in der für jedes Intervall notiert ist, wie viele Werte darin über 1000 ppm lagen.<br>\n",
    "Dazu werden zunächst alle Datensätze, die in einem 30 min Zeitintervall liegen, gezählt und so zu einem Datensatz zusammengefasst. Hierfür werden die Funktionen <code>resample</code> mit dem Parameterwert <code>'30Min'</code> zum Zusammenfassen der 30min-Intervalle und die Funktion <code>count</code> zum Zählen der Datensätze genutzt. Es ergibt sich das DataFrame <code>grouped</code>, welches für jedes 30 min Intervall von Messbeginn bis Messende die Anzahl der CO$_2$-Werte über 1000 ppm enthält.<br>\n",
    "Da diese Anzahl allerdings basierend auf der Uhrzeit - ohne das Datum zu berücksichtigen - erhoben werden soll, wird anschließend der Index des neuen Dataframes auf die Uhrzeit gesetzt. Anschließend können dann mithilfe der <code>grouped</code>-Methode und der <code>sum</code>-Methode die gleichen Zeitintervalle für die verschiedenen Tage zusammengefasst werden.\n",
    "</div>"
   ]
  },
  {
   "cell_type": "code",
   "execution_count": null,
   "metadata": {},
   "outputs": [],
   "source": [
    "grouped = df_over1000['value_co2'].resample('30Min').count()\n",
    "grouped.index = grouped.index.time\n",
    "grouped = grouped.groupby(grouped.index).sum()\n",
    "print(grouped)"
   ]
  },
  {
   "cell_type": "markdown",
   "metadata": {
    "markup_type": "expl"
   },
   "source": [
    "<div class = \"alert alert-success\">\n",
    "    Zusätzlich zur bloßen Ausgabe wie gerade geschehen, soll dies auch noch in einem Balkendiagramm (engl. bar chart) visualisiert werden. Damit wollen wir (leichter) erkennen, zu welchen Zeiten die Werte besonders häufig über 1000 ppm lagen - also wann noch häufiger gelüftet werden müsste.\n",
    "    </div>"
   ]
  },
  {
   "cell_type": "code",
   "execution_count": null,
   "metadata": {
    "scrolled": false
   },
   "outputs": [],
   "source": [
    "fig = go.Figure()\n",
    "fig.add_trace(go.Bar(x=grouped.index, y=grouped))\n",
    "\n",
    "fig.update_layout(title=\"Anzahl der Zeitpunkte, zu denen der CO2-Wert über 1000 ppm lag für 30 min-Intervalle\")\n",
    "fig.update_xaxes(title_text = \"Zeit\")\n",
    "fig.update_yaxes(title_text = \"Anzahl der Zeitpunkte, zu denen der CO2-Wert über 1000 ppm lag\")\n",
    "\n",
    "fig.show()\n",
    "\n"
   ]
  },
  {
   "cell_type": "markdown",
   "metadata": {},
   "source": [
    "<div class = \"alert alert-success\">\n",
    "Nimmt man alle Tage zusammen, dann ergibt sich insbesondere zwischen 09:00 Uhr und 09:30 Uhr, zwischen 10:00 Uhr und 10:30 Uhr und zwischen 11:30 Uhr und 12:00 Uhr besonders häufig, dass die CO$_2$-Werte die 1000 ppm Grenze überschritten haben.<br>\n",
    "    <i>Zur Erinnerung: Die Daten wurden alle 30 Sekunden protokolliert. In dieser Graphik wurden die Daten von allen sechs Tagen zusammengefasst, jedes 30 Minuten Intervall enthält also 360 Messwerte. Davon haben im schlimmsten Fall 201, also ein Drittel (von 10 bis 10:30 Uhr) über 1000 ppm gelegen.</i><br>\n",
    "  Zu den o.g. Zeiten sollte daher vermutlich häufiger gelüftet werden.\n",
    "</div>"
   ]
  },
  {
   "cell_type": "markdown",
   "metadata": {},
   "source": [
    "<div class = \"alert alert-success\">\n",
    "    Dies ist eine mehrerer Handlungsempfehlungen, die wir aus der Analyse des CO$_2$-Wertes ableiten konnten. Nachfolgend sind noch einmal alle aufgelistet, die wir aus den Daten schließen:\n",
    "</div>"
   ]
  },
  {
   "cell_type": "markdown",
   "metadata": {},
   "source": [
    "<div class = \"alert alert-success\">\n",
    "\n",
    "## Handlungsempfehlung 01:\n",
    "Um die Häufigkeit der Phasen mit einem CO$_2$-Wert von mehr als 1000 ppm zu reduzieren, kann es sinnvoll sein, in dieser konkreten Klasse die Fenster bei jedem Lüften ein wenig länger offen zu halten.\n",
    "    \n",
    "## Handlungsempfehlung 02:\n",
    "Zwischen 09:00 Uhr und 09:30 Uhr, zwischen 10:00 Uhr und 10:30 Uhr und zwischen 11:30 Uhr und 12:00 Uhr sollte häufiger gelüftet werden.\n",
    "    \n",
    "  \n",
    "## Handlungsempfehlung 03: Weitere Daten sammeln und analysieren\n",
    "Nachdem diese Handlungsempfehlungen ausprobiert wurden, könnte es sinnvoll sein, anhand neuer Daten noch genauer zu analysieren, wie viel Zeit dann zwischen den \"roten Phasen\" liegt, um ggf. \"präventiv\" lüften zu können und nicht erst, wenn der CO$_2$-Wert über 1000 ppm liegt.\n",
    "</div>"
   ]
  },
  {
   "cell_type": "markdown",
   "metadata": {},
   "source": [
    "### Analyse der Temperaturdaten"
   ]
  },
  {
   "cell_type": "markdown",
   "metadata": {},
   "source": [
    "<div class = \"alert alert-success\">\n",
    "    Genau wie die CO$_2$ Daten können auch die Temperaturdaten in einem Zeitdiagramm dargestellt werden:\n",
    "    </div>"
   ]
  },
  {
   "cell_type": "code",
   "execution_count": null,
   "metadata": {},
   "outputs": [],
   "source": [
    "fig = go.Figure()\n",
    "fig.add_trace(go.Scatter(x=df.index, y=df['value_temp']))\n",
    "fig.show()"
   ]
  },
  {
   "cell_type": "markdown",
   "metadata": {},
   "source": [
    "<div class = \"alert alert-success\">\n",
    "    Die gemessenen Temperatur-Werte im Klasssenraum schwanken meist zwischen 22 und 27 Grad. Allerdings gibt es am 11.02. zwischen ca. 8 Uhr und 9 Uhr stark abweichende Werte, die bis auf 19 Grad heruntergehen. Zunächst sollen nun aber die einzelnen Wochentage zu den Schulzeiten genauer betrachtet werden. Der Vorteil ist, dass wir oben bereits die passenden Datensätze gefiltert haben (<code>df_0802, df_0902,...</code>). Folglich müssen wir nur noch die Visualisierung anpassen:\n",
    "    </div>"
   ]
  },
  {
   "cell_type": "code",
   "execution_count": null,
   "metadata": {},
   "outputs": [],
   "source": [
    "fig_dates_temp = go.Figure()\n",
    "fig_dates_temp.add_trace(go.Scatter(x=pd.to_datetime(df_0802.index.time.astype(str)), y=df_0802['value_temp'], name = 'Dienstag, 08.02.2022'))\n",
    "fig_dates_temp.add_trace(go.Scatter(x=pd.to_datetime(df_0902.index.time.astype(str)), y=df_0902['value_temp'], name = 'Mittwoch, 09.02.2022'))\n",
    "fig_dates_temp.add_trace(go.Scatter(x=pd.to_datetime(df_1002.index.time.astype(str)), y=df_1002['value_temp'], name = 'Donnerstag, 10.02.2022'))\n",
    "fig_dates_temp.add_trace(go.Scatter(x=pd.to_datetime(df_1102.index.time.astype(str)), y=df_1102['value_temp'], name = 'Freitag, 11.02.2022'))\n",
    "fig_dates_temp.add_trace(go.Scatter(x=pd.to_datetime(df_1402.index.time.astype(str)), y=df_1402['value_temp'], name = 'Montag, 14.02.2022'))\n",
    "fig_dates_temp.add_trace(go.Scatter(x=pd.to_datetime(df_1502.index.time.astype(str)), y=df_1502['value_temp'], name = 'Dienstag, 15.02.2022'))\n",
    "\n",
    "fig_dates_temp.update_layout(title=\"Temperatur-Werte in unserem Klassenraum\")\n",
    "fig_dates_temp.update_xaxes(title_text = \"Zeit\")\n",
    "fig_dates_temp.update_yaxes(title_text = \"Temperatur in °C\")\n",
    "\n",
    "fig_dates_temp.show()"
   ]
  },
  {
   "cell_type": "markdown",
   "metadata": {},
   "source": [
    "<div class = \"alert alert-success\">\n",
    "An den einzelnen Tagen lassen sich einige Temperaturschwankungen erkennen. Besonders stark ist diese Schwankung - wie bereits oben angesprochen - am 11.02. zwischen 8 und 9 Uhr. Doch auch an den anderen Tagen gibt es Phasen, in denen die Temperatur teilweise um zwei Grad oder mehr in kurzer Zeit abnimmt und dann wieder zunimmt. Vermutlich wurde in diesen Phasen jeweils gelüftet, sodass auch der CO$_2$-Wert in diesen Phasen gefallen sein müsste.\n",
    "</div>"
   ]
  },
  {
   "cell_type": "markdown",
   "metadata": {},
   "source": [
    "<div class = \"alert alert-warning\">\n",
    "    Ähnlich wie oben gesehen, kannst Du bei der Auswertung einzelner Variablen (hier für die Temperatur) vorgehen. Dabei hängt die Wahl der Filter, aggregierten Daten und der Visualisierungen von Deiner Forschungsfrage ab. Probiere für eine ausgewählte Variable eine eigene Datenanalyse mit derartigen Visualisierungen und begleitenden Erläuterungen zu erstellen.\n",
    "    </div>"
   ]
  },
  {
   "cell_type": "markdown",
   "metadata": {},
   "source": [
    "### Analyse des Zusammenhangs zweier Variablen"
   ]
  },
  {
   "cell_type": "markdown",
   "metadata": {},
   "source": [
    "<div class = \"alert alert-success\"> Gerade haben wir vermutet, dass es einen (statistischen) Zusammenhang zwischen der Temperatur und dem CO$_2$ Gehalt im Klassenzimmer gibt. Dies soll nun weiter untersucht werden. <br><br> \n",
    "    <b>Zwei Variablen in einer Graphik darstellen</b><br><br>\n",
    "    Um den Zusammenhang von CO$_2$-Wert und Temperaturwert zu überprüfen, sollen im Folgenden Graphen für beide Größen in ein gemeinsames Diagramm gezeichnet werden. Hierbei muss man allerdings darauf achten, dass beide Größen in verschiedenen Einheiten dargestellt werden (CO$_2$-Werte in ppm und Temperaturwerte in °C). Aus diesem Grund muss der zweite Graph als sogenannter subplot (engl. für \"Neben-Plot\" oder \"Nebenbereich\") eingezeichnet werden. Dies funktioniert, indem man mithilfe der Methode <code>make_subplots</code> aus der plotly.subplots-Bibliothek eine Figure-Umgebung mit Subplots erstellt. Dabei muss in den Spezifikationen (engl. kurz specs genannt) die Property <code>secondary_y</code> auf <code>True</code> gesetzt werden. In der <code>add_trace</code>-Methode wird dann für den als Subplot einzuzeichnenden Graphen (Hier für die CO$_2$-Werte) der Parameter <code>secondary_y</code> auf <code>True</code> gesetzt. So wird automatisch eine zweite y-Achse rechts am Rande des Plots eingefügt, auf der dann die y-Werte für den Subplot-Graphen angeordnet werden.<br>\n",
    "Da die Schwankungen für den 11.02. bei der Temperatur besonders deutlich waren, haben wir die Gegenüberstellung von Temperatur und CO$_2$ einmal exemplarisch für diesen Tag umgesetzt. Dabei haben wir - wie bereits oben gesehen - mithilfe des <code>marker</code>-Attributes die Farbe für die beiden Graphen festgelegt, um sie besser voneinander unterscheiden zu können.<br>\n",
    "    Beachte: Die Achsenbeschriftung für die Termperatur befindet sich links, die für CO2 rechts am Diagramm!\n",
    "</div>"
   ]
  },
  {
   "cell_type": "code",
   "execution_count": null,
   "metadata": {},
   "outputs": [],
   "source": [
    "fig_comp = sp.make_subplots(specs=[[{\"secondary_y\": True}]])\n",
    "fig_comp.add_trace(go.Scatter(x=pd.to_datetime(df_1102.index.time.astype(str)), y=df_1102['value_temp'], name = 'Temperatur', marker=dict(color='Darkgreen')))\n",
    "fig_comp.add_trace(go.Scatter(x=pd.to_datetime(df_1102.index.time.astype(str)), y=df_1102['value_co2'], name=\"CO2\", marker = dict(color='Deepskyblue')),secondary_y=True)\n",
    "fig_comp.update_layout(title=\"Temperatur und CO2-Werte am 11.02.\")\n",
    "fig_comp.show()"
   ]
  },
  {
   "cell_type": "markdown",
   "metadata": {},
   "source": [
    "<div class = \"alert alert-success\">\n",
    "Man sieht, dass die Verläufe der beiden Variablen Temperatur und CO2 am 25.2. sehr ähnlich aussehen. Sie fallen und steigen fast gleichzeitig. <br><br>\n",
    "    <b>Getrennte Achsenbeschriftungen</b><br><br>\n",
    "    Um nun die Zuteilung der beiden Graphen zu ihren jeweiligen Achsen noch besser verdeutlichen zu können, sollen auch die y-Achsen beschriftet werden. Dies funktioniert ähnlich, wie oben gezeigt, nur dass man bei der y-Achse zum Subplot (hier CO$_2$-Werte) den Parameter <code>secondary_y</code> auf <code>True</code> setzen muss und bei der anderen y-Achse im primären Plot (hier Temperaturwerte) auf <code>False</code>.<br>\n",
    "Um die Zuteilung der Graphen zu den jeweiligen Achsen noch weiter zu verdeutlichen, haben wir mithilfe des <code>color</code>-Attributs die Farbe der Achsen auf die Farbe der Graphen gesetzt.\n",
    "</div>"
   ]
  },
  {
   "cell_type": "code",
   "execution_count": null,
   "metadata": {},
   "outputs": [],
   "source": [
    "fig_comp = sp.make_subplots(specs=[[{\"secondary_y\": True}]])\n",
    "fig_comp.add_trace(go.Scatter(x=pd.to_datetime(df_1102.index.time.astype(str)), y=df_1102['value_temp'], name = 'Temperatur', marker=dict(color='Darkgreen')))\n",
    "fig_comp.add_trace(go.Scatter(x=pd.to_datetime(df_1102.index.time.astype(str)), y=df_1102['value_co2'], name=\"CO2\", marker = dict(color='Deepskyblue')),secondary_y=True)\n",
    "fig_comp.update_layout(title=\"Temperatur und CO2-Werte am 11.02.\")\n",
    "fig_comp.update_yaxes(title_text=\"Temperaturwerte in °C\", secondary_y=False, color = \"Darkgreen\")\n",
    "fig_comp.update_yaxes(title_text=\"CO2-Werte in ppm\", secondary_y=True, color = \"Deepskyblue\")\n",
    "fig_comp.show()"
   ]
  },
  {
   "cell_type": "markdown",
   "metadata": {},
   "source": [
    "<div class = \"alert alert-success\">\n",
    "Im gemeinsamen Diagramm lässt sich erkennen, dass die Temperatur und der CO$_2$-Wert am 11.02. einen sehr ähnlichen Verlauf haben: Gegen kurz vor 8 fangen beide Werte an zu sinken bis ca. um 08:04 Uhr. Während die Temperatur von etwa 25,5 °C auf ca. 22,8°C sinkt, fällt der CO$_2$-Wert von ca. 1280 pmm auf etwa 743 ppm. Anschließend steigt die Temperatur bis um etwa 08:19 Uhr auf 23,87 °C, während auch der CO$_2$-Wert wieder steigt, und zwar auf ca. 831 ppm. Anschließend fallen beide Werte wieder bis ca. um 08:40 Uhr auf 18,83°C  bzw. auf ca. 600 ppm. Anschließend steigen beide Werte wieder bis ca. um 09:00 Uhr (CO$_2$) bzw. 09:15 Uhr (Temperatur), bevor sie sich etwa auf einem Level von ca. 25,3°C bzw. zwischen 1100 und 1200 ppm einpendeln.<br>\n",
    "    Der Verlauf lässt sich damit erklären, dass am 11.02. im Klassenraum nur in der ersten Stunde Unterricht war. Vermutlich wurde dort dann zweimal gelüftet (einmal ca. von 07:58 Uhr bis 08:05 Uhr und einmal ca. von 08:18 Uhr bis 08:40 Uhr).<br>\n",
    "Der ähnliche Verlauf der Werte für den CO$_2$-Gehalt und die Temperatur ist an diesem Tag besonders auffällig. Um ihn noch weiter untersuchen zu können, wollen wir im Folgenden feststellen, inwiefern die beiden Werte statistisch miteinander zusammenhängen (d.h. <b>korrellieren</b>). wir untersuchen also die <b>Korrelation</b> zwischen Temperatur und CO2 am 25.2.22.\n",
    "</div>"
   ]
  },
  {
   "cell_type": "markdown",
   "metadata": {},
   "source": [
    "<div class = \"alert alert-success\">\n",
    "Um zu erkennen, inwiefern die beiden Variablen CO$_2$-Wert und Temperatur zusammenhängen, kann zunächst ein Scatterplot erstellt werden, bei dem der eine Wert auf der x-Achse ist (CO$_2$-Wert), während der andere Wert (Temperatur) auf der y-Achse angeordnet wird. Dies funktioniert am übersichtlichsten mit einem Punktdiagramm, weswegen das Attribut <code>mode</code> wieder auf en Wert <code>'markers'</code> gesetzt wird.\n",
    "</div>"
   ]
  },
  {
   "cell_type": "code",
   "execution_count": null,
   "metadata": {
    "scrolled": false
   },
   "outputs": [],
   "source": [
    "fig_zushg = go.Figure()\n",
    "fig_zushg.add_trace(go.Scatter(x=df_1102['value_co2'], y=df_1102['value_temp'], name = 'Zusammenhang CO2 => Temp', mode = 'markers', marker=dict(color='Darkgreen')))\n",
    "fig_zushg.update_layout(title=\"Zusammenhang zwischen CO2-Werten und Temperaturwerten am 11.02.\")\n",
    "fig_zushg.update_xaxes(title_text=\"CO2-Werte in ppm\")\n",
    "fig_zushg.update_yaxes(title_text=\"Temperaturwerte in °C\")\n",
    "fig_zushg.show()"
   ]
  },
  {
   "cell_type": "markdown",
   "metadata": {},
   "source": [
    "<div class = \"alert alert-success\">\n",
    "Es ergibt sich eine Punktwolke für die Abhängigkeit der Temperatur von den CO2 Werten. Wie man in der Graphik erkennen kann, verlaufen die Punkte \"grob\" gesprochen von links unten nach rechts oben. Also in etwa: Je niedriger der CO2 Wert ist, desto niedriger ist auch die Temperatur und je höher der CO2 Wert ist, desto höher ist auch die Temperatur.<br> Man kann hier dann auf eine sogenannten positive Korrelation zwischen diesen beiden Variablen schließen, die genau dies aussagt. Um dies zu überprüfen, kann man mit der Methode <code>corr</code> auch die Korrelationskoeffizienten zwischen den verschiedenen Variablen eines Datensatzes berechnen. Dies wird nun exemplarisch für den Datensatz am 11.02. gemacht für die Variablen Temperatur (<code>value_temp</code>) und CO2 (<code>value_co2</code>):\n",
    "</div>"
   ]
  },
  {
   "cell_type": "code",
   "execution_count": null,
   "metadata": {},
   "outputs": [],
   "source": [
    "df_1102.corr()"
   ]
  },
  {
   "cell_type": "markdown",
   "metadata": {},
   "source": [
    "<div class = \"alert alert-success\">\n",
    "In der Tabelle sind die Korrelationskoeffizienten zwischen allen möglichen Kombinationen von zwei Variablen berechnet. Natürlich liegt der Korrelationskoeffizient bei einer Variable mit sich selbst immer bei 1. Das sieht man auf der Diagonalen. Dies ergibt Sinn, da die Variable natürlich direkt von sich abhängt - z.B. \"je höher <code>value_temp</code> ist, desto höher ist auch <code>value_temp</code>\".<br><br>\n",
    "    <b>Der Korrelationskoeffizient</b><br><br>\n",
    "Allgemein liegt der sogenannte Korrelationskoeffizient von zwei Variablen A und B immer zwischen -1 und 1. Bei einem Wert nahe an -1 spricht man von einer starken negativen Korrelation. Das bedeutet in etwa: Je höher der Wert von Variable A, desto niedriger ist der Wert von Variable B. <br>\n",
    "    Bei einem Wert nahe an 1 spricht man dagegen von einer hohen positiven Korrelation - je höher der Wert von Variable A, desto höher ist auch der Wert von Variable B. <br>Bei einem Wert nahe an 0 lässt sich kein solches Muster bzw. kein Zusammenhang zwischen den Variablen A und B erkennen.<br>\n",
    "<b>Allgemein spricht man von einer statistisch signifikaneten Korelation, wenn der Korrelationskoeffizient zwischen zwei Variablen größer als 0,6 oder kleiner als -0,6 ist.</b> <br>\n",
    "Allerdings muss man im Allgemeinen aufpassen, wenn man vom statistischen Zusammenhang auf den ursächlichen (kausalen) Zusammenhang schließen möchte: Nur weil es eine hohe Korrelation zwischen zwei Variablen gibt, heißt das noch nicht, dass diese auch inhaltlich (kausal) zusammenhängen.<br><br>\n",
    "    <b>Unterschied zwischen Korrelation und Kausalität</b><br><br>\n",
    "Auf folgender Website gibt es ein gutes Video, in dem der Unterschied zwischen Kausalität und Korrelation gut erklärt wird: <a href =https://studyflix.de/statistik/korrelation-und-kausalitat-2216?topic_id=9>https://studyflix.de/statistik/korrelation-und-kausalitat-2216?topic_id=9</a><br>\n",
    "Das Beispiel aus dem Video soll hier kurz aufgegrifen werden: Die Anzahl an Personen mit einem Sonnenbrand und die Anzahl der verkauften Eiskugeln in einer Eisdiele korrelieren statistisch gesehen zwar stark miteinander, die Anzahl der Sonnenbrände ist aber nicht für die Menge an verkauften Eiskugeln verantwortlich und andersherum ebenfalls nicht. Aus diesem Grund bringt es nichts, wenn man die Anzahl der verkauften Eiskugeln verringert, um weniger Menschen mit einem Sonnenbrand zu haben. Durch weniger verkauftes Eis werden nicht automatisch weniger Menschen einen Sonnenbrand bekommen.<br><br>\n",
    "<i>Hinweis: Da in unserem Datensatz jeweils zueinander gehörige Wetterdaten vorhanden sind, kann man in vielen Fällen schon von einer zutreffenden Kausalität ausgehen. Diese muss aber immer auch begründet werden.</i>\n",
    "</div>"
   ]
  },
  {
   "cell_type": "markdown",
   "metadata": {},
   "source": [
    "<div class = \"alert alert-success\">\n",
    "    <b>Interpretation unserer Werte</b><br><br>Zwischen den Temperaturwerten und den CO$_2$-Werten besteht für den 11.02. eine hohe Korrellation mit einem Korrellationskoeffizienten von ca. 0,927. Zudem lässt sich die Kausalität des Zusammenhangs zwischen dem gemessenen Temperaturwert und dem gemessenen CO$_2$-Wert damit begründen, dass bei einem Anstieg beider Werte die Fenster geschlossen waren und bei einem Abfall der Werte das Fenster geöffnet war.<br>\n",
    "\n",
    "</div>"
   ]
  },
  {
   "cell_type": "markdown",
   "metadata": {},
   "source": [
    "<div class = \"alert alert-success\">Nun soll noch geprüft werden, ob es weitere signifikante Korrelationen zwischen Variablen in unserem Datensatz gibt und ob die hohe Korrellation der Temperatur und des CO2-Wertes auch an den anderen Tagen besteht. Dazu rufen wir die <code>corr</code>-Methode nun auf dem gesamten Datensatz für die Schulzeit (<code>df_schulzeit</code>) auf:\n",
    "</div>"
   ]
  },
  {
   "cell_type": "code",
   "execution_count": null,
   "metadata": {},
   "outputs": [],
   "source": [
    "df_schulzeit.corr()"
   ]
  },
  {
   "cell_type": "markdown",
   "metadata": {},
   "source": [
    "<div class = \"alert alert-success\">\n",
    "Wie wir in der obigen Tabelle sehen, liegt der Korrelationskoeffizient zwischen <code>value_temp</code> und <code>value_co2</code> über alle Tage hinweg nur bei ca. 0,31. Man kann hier also nicht von einem statistischen Zusammenhang der beiden Variablen im Allgemeinen sprechen. Die einzige signifikante Korrelation besteht zwischen der Luftfeuchtigkeit und dem Luftdruck (Korrellationskoeffizient von ca. 0,6665). Diesen Zusammenhang könnte man in der Zukunft noch genauer untersuchen.\n",
    "</div>"
   ]
  },
  {
   "cell_type": "markdown",
   "metadata": {},
   "source": [
    "<div class = \"alert alert-warning\">\n",
    "    Ähnlich wie oben gesehen, kannst Du bei der Analyse des Zusammenhangs zweier Variablen vorgehen. Dabei hängt die Wahl der Filter, aggregierten Daten und der Visualisierungen immer von Deiner Forschungsfrage ab. Probiere, für zwei ausgewählte Varialbe eine eigene Analyse des Zusammenhangs mit passenden Visualisierungen und begleitenden Erläuterungen zu erstellen.\n",
    "    </div>"
   ]
  },
  {
   "cell_type": "markdown",
   "metadata": {},
   "source": [
    "## >>Schlussfolgerungen/Empfehlungen<<"
   ]
  },
  {
   "cell_type": "markdown",
   "metadata": {},
   "source": [
    "<div class = \"alert alert-warning\">\n",
    "    Im Folgenden werden die wesentlichen Erkenntnisse und Handlungsempfehlungen festgehalten, die innerhalb dieses Computational Essays gewonnen werden konnten.\n",
    "</div>"
   ]
  },
  {
   "cell_type": "markdown",
   "metadata": {},
   "source": [
    "### Erkenntnisse:"
   ]
  },
  {
   "cell_type": "markdown",
   "metadata": {},
   "source": [
    "<div class = \"alert alert-success\">\n",
    "<ul>\n",
    "    <li>Die CO$_2$-Werte bewegten sich zwischen 500 und 1300 ppm und schwankten zwischendurch teilweise relativ stark. Dies hat vermutlich damit zu tun, dass bei einem Wert von 1000ppm die CO$_2$-Ampel in der Klasse gelb wurde und daraufhin die Fenster geöffnet wurden, bis die CO$_2$-Ampel wieder grün wurde.</li>\n",
    "<li> Die Zeiträume, in denen die CO$_2$-Werte zu hoch waren (> 1000ppm) folgen im Klassenraum sehr schnell aufeinander. </li>\n",
    "<li> Die gemessenen Temperatur-Werte im Klasssenraum schwankten meist zwischen 22 und 27 Grad (im Februar). Allerdings gab es am 11.02. zwischen ca. 8 Uhr und 9 Uhr stark abweichende Werte, die bis auf 19 Grad sanken.</li>\n",
    "<li> Zwischen 09:00 Uhr und 09:30 Uhr, zwischen 10:00 Uhr und 10:30 Uhr und zwischen 11:30 Uhr und 12:00 Uhr lagen die CO$_2$-Werte besonders häufig über 1000 ppm. </li>   \n",
    "<li> An den einzelnen Tagen ließen sich einige Temperaturschwankungen erkennen. Besonders stark war diese Schwankung - wie bereits oben angesprochen - am 11.02.22 zwischen 8 und 9 Uhr. Doch auch an den anderen Tagen gab es Phasen, in denen die Temperatur teilweise um zwei Grad oder mehr in kurzer Zeit abnahm und dann wieder zunahm. Vermutlich wurde in diesen Phasen jeweils gelüftet, sodass auch der CO$_2$-Wert in diesen Phasen gefallen sein müsste.</li>\n",
    "<li> Am 11.02. hatten die Temperatur und der CO$_2$-Wert einen sehr ähnlichen Verlauf\n",
    "    <ul>\n",
    "        <li> je höher die CO$_2$-Werte waren, umso höher lagen auch die Temperaturwerte.</li>\n",
    "        <li> Zwischen den Temperaturwerten und den CO$_2$-Werten besteht für den 11.02. eine hohe Korrelation mit einem Korrellationskoeffizienten von ca. 0,927.</li>\n",
    "        <li>Weiterhin bestehen folgende signifikante Korrellationen für die Daten am 11.02.:\n",
    "        <ul>\n",
    "            <li>negativer Zusammenhang zwischen CO$_2$-Wert und Helligkeit (Korrelationskoeffizient ca. -0,7284)</li>\n",
    "            <li>negativer Zusammenhang zwischen Temperatur und Luftfeuchtigkeit (Korrelationskoeffizient ca. -0,6244)</li>\n",
    "            <li>negativer Zusammenhang zwischen Temperatur und Helligkeit (Korrelationskoeffizient ca. -0,7014)</li>\n",
    "            <li>positiver Zusammenhang zwischen Luftfeuchtigkeit und Helligkeit (Korrelationskoeffizient ca. 0,6111)</li>\n",
    "        </ul>\n",
    "        </li>\n",
    "        <li> Für den gesamten Datensatz zur Schulzeit lag der Korrelationskoeffizient zwischen <code>value_temp</code> und <code>value_co2</code> nur bei ca. 0,31. Man kann hier also nicht von einem statistischen Zusammenhang der beiden Werte im Allgemeinen sprechen.</li>\n",
    "    </ul>\n",
    "\n",
    "</ul>\n",
    "</div>    "
   ]
  },
  {
   "cell_type": "markdown",
   "metadata": {},
   "source": [
    "### Handlungsempfehlungen und weitere Analyseinteressen:"
   ]
  },
  {
   "cell_type": "markdown",
   "metadata": {},
   "source": [
    "<div class = \"alert alert-success\">\n",
    "<ul>\n",
    "    <li>Um die Häufigkeit der Phasen mit einem CO$_2$-Wert von mehr als 1000 ppm zu reduzieren, kann es sinnvoll sein, die Fenster länger offen zu halten.</li>\n",
    "       <li>Zwischen 09:00 Uhr und 09:30 Uhr, zwischen 10:00 Uhr und 10:30 Uhr und zwischen 11:30 Uhr und 12:00 Uhr  sollte häufiger gelüftet werden.</li>\n",
    "    <li>Nachdem diese Handlungsempfehlung ausprobiert wurde, könnte es sinnvoll sein, anhand neuer Daten noch genauer zu analysieren, wie viel Zeit dann zwischen den \"roten Phasen\" liegt, um ggf. \"präventiv\" lüften zu können und nicht erst, wenn der CO$_2$-Wert über 1000 ppm liegt.</li>\n",
    "     <li>Ein weiterer, interessanter, zu analysierender Zusammenhang für weitere Untersuchungen könnte der zwischen Luftfeuchtigkeit und Luftdruck sein - hier scheint es eine signifikante Korrelation zu geben.</li>\n",
    "    <li>Weiterhin könnten auch die Zusammenhänge, die für den 11.02. signifikant waren, mit weiteren Daten analysiert werden.</li>\n",
    "    <li>Interessant könnte auch sein, wenn man zusätzlich erhebt oder analysiert, wie oft gelüftet wurde und wann zusätzlich hätte gelüftet werden sollen. Daraus könnte ggf. auch ein \"Lüftungsplan\" entstehen.</li>\n",
    "</ul>\n",
    "</div>"
   ]
  }
 ],
 "metadata": {
  "kernelspec": {
   "display_name": "Python 3",
   "language": "python",
   "name": "python3"
  },
  "language_info": {
   "codemirror_mode": {
    "name": "ipython",
    "version": 3
   },
   "file_extension": ".py",
   "mimetype": "text/x-python",
   "name": "python",
   "nbconvert_exporter": "python",
   "pygments_lexer": "ipython3",
   "version": "3.8.5"
  }
 },
 "nbformat": 4,
 "nbformat_minor": 4
}
