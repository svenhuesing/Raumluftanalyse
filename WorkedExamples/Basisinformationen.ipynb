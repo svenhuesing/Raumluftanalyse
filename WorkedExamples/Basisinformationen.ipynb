{
 "cells": [
  {
   "cell_type": "markdown",
   "metadata": {},
   "source": [
    "# Weitere Informationen über den Klassenraum und die Belegung"
   ]
  },
  {
   "cell_type": "markdown",
   "metadata": {},
   "source": [
    "## Fotos"
   ]
  },
  {
   "cell_type": "markdown",
   "metadata": {},
   "source": [
    "![Bild](res/Bild_Sensor.png)\n",
    "Installation der Sensebox an der Rückseite des Raums zwischen Tür und Fenster in ca. 1m Höhe"
   ]
  },
  {
   "cell_type": "markdown",
   "metadata": {},
   "source": [
    "## Grundlegende Infos\n",
    "<ul>\n",
    "    <li>Raumbezeichnung: R2.02\n",
    "    <li>Raumgröße: $100m^3$</li>\n",
    "    <li>Heizungsart: Elektroheizung</li>\n",
    "    <li>Lüftung vorhanden: Ja, 3 Fenster zum Kippen/Stoßlüften</li>\n",
    "    <li>Beschattung vorhanden: Ja, Rollläden vorhanden</li>\n",
    "    <li>Bodenbelag: Kautschuk</li>\n",
    "</ul>"
   ]
  },
  {
   "cell_type": "markdown",
   "metadata": {},
   "source": [
    "## Raumnutzung\n",
    "Anzahl maximal anwesender Personen:\n",
    "\n",
    "|  | Montag | Dienstag | Mittwoch | Donnerstag | Freitag |\n",
    "| --- |--- | --- | --- | --- | --- |\n",
    "| **Zeit** |  |  |  | |  |\n",
    "| 7.50<br>-8.35 | 0 | 27 | 27 | 20 | 27 |\n",
    "| 8.40<br>-9.25 | 27 | 27 | 27 | 20 | 27 |\n",
    "| 9.30<br>-10.25 | 27 | 27 | 0 | 27 | 0 |\n",
    "| 10.30<br>-11.15 | 27 | 27 | 0 | 27 | 27 |\n",
    "| 11.30<br>-12.15 | 0 | 0 | 27 | 27 | 19 |\n",
    "| 12.20<br>-13.05 | 27 | 0 | 0 | 27 | 19 |"
   ]
  },
  {
   "cell_type": "markdown",
   "metadata": {},
   "source": [
    "## Protokoll Lüftungszeiträume"
   ]
  },
  {
   "cell_type": "markdown",
   "metadata": {},
   "source": [
    "| 08.02. | 09.02. | 10.02. | 11.02. | 14.02. | 15.02. |\n",
    "| --- | --- | --- | --- | --- | --- |\n",
    "| 09:33-09:41 | 07:50-07:52 | 09:29-09:40 | 07:58-08:03 | 09:28-09:42 | 07:57-08:01 |\n",
    "| 09:47-09:52 | 08:30-08:52 | 09:52-09:57 | 08:19-08:22 | 10:28-10:48 | 08:42-08:57 |\n",
    "| 10:18-10:35 | 11:36-11:48 | 10:16-10:22 |  |  |  |\n",
    "| 11:04-11:08 | 12:08-12:14 | 12:10-12:15 |  |  |  |\n",
    "| 11:17-11:32 |  | 12:35-12:39 |  |  |  |\n",
    "| 11:17-11:32 |  | 12:52-12:56 |  |  |  |"
   ]
  }
 ],
 "metadata": {
  "kernelspec": {
   "display_name": "Python 3",
   "language": "python",
   "name": "python3"
  },
  "language_info": {
   "codemirror_mode": {
    "name": "ipython",
    "version": 3
   },
   "file_extension": ".py",
   "mimetype": "text/x-python",
   "name": "python",
   "nbconvert_exporter": "python",
   "pygments_lexer": "ipython3",
   "version": "3.8.5"
  }
 },
 "nbformat": 4,
 "nbformat_minor": 4
}
